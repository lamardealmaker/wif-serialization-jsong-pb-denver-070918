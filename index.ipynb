{
 "cells": [
  {
   "cell_type": "markdown",
   "metadata": {},
   "source": [
    "# WIF Serialization\n",
    "\n",
    "WIF is the serialization of a Private Key."
   ]
  },
  {
   "cell_type": "code",
   "execution_count": 1,
   "metadata": {},
   "outputs": [
    {
     "name": "stdout",
     "output_type": "stream",
     "text": [
      "What is your code? bitcoin\n",
      "How many hashes?43\n",
      "PK HEX: 0x159c9cc78ae6d75a15694a735993d96b3dbeb2204a2b40f86afa251853bf9e0c84aa1b6b706239021cdc0e98e63ad291acd451d3ae065e4e49dc974fb9662e5b637b750b98fc311df68446a4adf862bc583ef90531b62976b86de68c4df4065\n"
     ]
    },
    {
     "ename": "AttributeError",
     "evalue": "type object 'PrivateKey' has no attribute 'wif'",
     "output_type": "error",
     "traceback": [
      "\u001b[0;31m\u001b[0m",
      "\u001b[0;31mAttributeError\u001b[0mTraceback (most recent call last)",
      "\u001b[0;32m<ipython-input-1-bf2136bfb34b>\u001b[0m in \u001b[0;36m<module>\u001b[0;34m()\u001b[0m\n\u001b[1;32m     18\u001b[0m \u001b[0;34m\u001b[0m\u001b[0m\n\u001b[1;32m     19\u001b[0m \u001b[0mprint\u001b[0m\u001b[0;34m(\u001b[0m\u001b[0;34m\"PK HEX: \"\u001b[0m\u001b[0;34m+\u001b[0m \u001b[0mhex\u001b[0m\u001b[0;34m(\u001b[0m\u001b[0msecret\u001b[0m\u001b[0;34m)\u001b[0m\u001b[0;34m)\u001b[0m\u001b[0;34m\u001b[0m\u001b[0m\n\u001b[0;32m---> 20\u001b[0;31m \u001b[0mprint\u001b[0m\u001b[0;34m(\u001b[0m\u001b[0;34m'PK WIF (UC): '\u001b[0m \u001b[0;34m+\u001b[0m \u001b[0mPrivateKey\u001b[0m\u001b[0;34m.\u001b[0m\u001b[0mwif\u001b[0m\u001b[0;34m(\u001b[0m\u001b[0mcompressed\u001b[0m\u001b[0;34m=\u001b[0m\u001b[0;32mFalse\u001b[0m\u001b[0;34m,\u001b[0m \u001b[0mtestnet\u001b[0m\u001b[0;34m=\u001b[0m\u001b[0;32mFalse\u001b[0m\u001b[0;34m)\u001b[0m\u001b[0;34m)\u001b[0m\u001b[0;34m\u001b[0m\u001b[0m\n\u001b[0m\u001b[1;32m     21\u001b[0m \u001b[0mprint\u001b[0m\u001b[0;34m(\u001b[0m\u001b[0;34m'PK WIF (C): '\u001b[0m \u001b[0;34m+\u001b[0m \u001b[0mPrivateKey\u001b[0m\u001b[0;34m.\u001b[0m\u001b[0mwif\u001b[0m\u001b[0;34m(\u001b[0m\u001b[0mcompressed\u001b[0m\u001b[0;34m=\u001b[0m\u001b[0;32mTrue\u001b[0m\u001b[0;34m,\u001b[0m \u001b[0mtestnet\u001b[0m\u001b[0;34m=\u001b[0m\u001b[0;32mFalse\u001b[0m\u001b[0;34m)\u001b[0m\u001b[0;34m)\u001b[0m\u001b[0;34m\u001b[0m\u001b[0m\n\u001b[1;32m     22\u001b[0m \u001b[0;31m# get the public point\u001b[0m\u001b[0;34m\u001b[0m\u001b[0;34m\u001b[0m\u001b[0m\n",
      "\u001b[0;31mAttributeError\u001b[0m: type object 'PrivateKey' has no attribute 'wif'"
     ]
    }
   ],
   "source": [
    "from ecc import G\n",
    "from hashlib import sha256 as s256\n",
    "from hashlib import sha512 as s512\n",
    "from ecc import PrivateKey\n",
    "\n",
    "s = input(\"What is your code? \")\n",
    "hashes = int(input(\"How many hashes?\"))\n",
    "\n",
    "for i in range(hashes):\n",
    "    s = s512(s.encode()).hexdigest()\n",
    "    t = s256(s.encode()).hexdigest()\n",
    "s = (int(s, 16))\n",
    "t = (int(t, 16))\n",
    "secret = s*t\n",
    "\n",
    "# use your phone number if you can't think of anything\n",
    "#secret = 0x977090903897cfbb8e30a806ad5d0c2086cb42d3e341ba0efdccc31b4b278823058aa1c57ddd23fccf54eea8d71199b053ccac8c53c87b9dfafda9e32562f5d32\n",
    "\n",
    "print(\"PK HEX: \"+ hex(secret))\n",
    "print('PK WIF (UC): ' + PrivateKey.wif(compressed=False, testnet=False))\n",
    "print('PK WIF (C): ' + PrivateKey.wif(compressed=True, testnet=False))\n",
    "# get the public point\n",
    "point = secret*G\n",
    "# if you completed the `address` method, just do the .address(testnet=True) method on the public point\n",
    "print('Compressed: ' + (point.address(compressed=True, testnet=False)))\n",
    "print('Unompressed: ' + (point.address(compressed=False, testnet=False)))"
   ]
  },
  {
   "cell_type": "markdown",
   "metadata": {},
   "source": [
    "### Try it\n",
    "\n",
    "#### Find the WIF Format of the following:\n",
    "\n",
    "* \\\\(2^{256}-2^{199}\\\\), mainnet, compressed\n",
    "* \\\\(2^{256}-2^{201}\\\\), testnet, uncompressed\n",
    "* 0dba685b4511dbd3d368e5c4358a1277de9486447af7b3604a69b8d9d8b7889d, mainnet, uncompressed\n",
    "* 1cca23de92fd1862fb5b76e5f4f50eb082165e5191e116c18ed1a6b24be6a53f, testnet, compressed"
   ]
  },
  {
   "cell_type": "code",
   "execution_count": 1,
   "metadata": {},
   "outputs": [
    {
     "name": "stdout",
     "output_type": "stream",
     "text": [
      "L5oLkpV3aqBJ4BgssVAsax1iRa77G5CVYnv9adQ6Z87te7TyUdSC\n",
      "93XfLeifX7Jx7n7ELGMAf1SUR6f9kgQs8Xke8WStMwUtrDucMzn\n",
      "5HvLFPDVgFZRK9cd4C5jcWki5Skz6fmKqi1GQJf5ZoMofid2Dty\n",
      "cNYfWuhDpbNM1JWc3c6JTrtrFVxU4AGhUKgw5f93NP2QaBqmxKkg\n"
     ]
    }
   ],
   "source": [
    "# Exercise 3.1\n",
    "from helper import encode_base58_checksum\n",
    "\n",
    "components = (\n",
    "    # (secret, testnet, compressed)\n",
    "    (2**256-2**199, False, True),\n",
    "    (2**256-2**201, True, False),\n",
    "    (0x0dba685b4511dbd3d368e5c4358a1277de9486447af7b3604a69b8d9d8b7889d, False, False),\n",
    "    (0x1cca23de92fd1862fb5b76e5f4f50eb082165e5191e116c18ed1a6b24be6a53f, True, True),\n",
    ")\n",
    "\n",
    "# iterate through components\n",
    "for secret, testnet, compressed in components:\n",
    "    # get the private key in 32-byte big-endian: num.to_bytes(32, 'big')\n",
    "    secret_bytes = secret.to_bytes(32, 'big')\n",
    "    # prepend b'\\x80' for mainnet, b'\\xef' for testnet\n",
    "    if testnet:\n",
    "        prefix = b'\\xef'\n",
    "    else:\n",
    "        prefix = b'\\x80'\n",
    "    # append b'\\x01' for compressed\n",
    "    if compressed:\n",
    "        suffix = b'\\x01'\n",
    "    else:\n",
    "        suffix = b''\n",
    "    # base58 the whole thing with checksum\n",
    "    wif = encode_base58_checksum(prefix + secret_bytes + suffix)\n",
    "    print(wif)"
   ]
  },
  {
   "cell_type": "markdown",
   "metadata": {},
   "source": [
    "### Test Driven Exercise"
   ]
  },
  {
   "cell_type": "code",
   "execution_count": 10,
   "metadata": {},
   "outputs": [],
   "source": [
    "from ecc import PrivateKey\n",
    "\n",
    "class PrivateKey(PrivateKey):\n",
    "\n",
    "    def wif(self, compressed=True, testnet=False):\n",
    "        # convert the secret from integer to a 32-bytes in big endian using num.to_bytes(32, 'big')\n",
    "        secret_bytes = self.secret.to_bytes(32, 'big')\n",
    "        # prepend b'\\xef' on testnet, b'\\x80' on mainnet\n",
    "        if testnet:\n",
    "            prefix = b'\\xef'\n",
    "        else:\n",
    "            prefix = b'\\x80'\n",
    "        # append b'\\x01' if compressed\n",
    "        if compressed:\n",
    "            suffix = b'\\x01'\n",
    "        else:\n",
    "            suffix = b''\n",
    "        # encode_base58_checksum the whole thing\n",
    "        return encode_base58_checksum(prefix + secret_bytes + suffix)"
   ]
  }
 ],
 "metadata": {
  "kernelspec": {
   "display_name": "Python 3",
   "language": "python",
   "name": "python3"
  },
  "language_info": {
   "codemirror_mode": {
    "name": "ipython",
    "version": 3
   },
   "file_extension": ".py",
   "mimetype": "text/x-python",
   "name": "python",
   "nbconvert_exporter": "python",
   "pygments_lexer": "ipython3",
   "version": "3.6.4"
  }
 },
 "nbformat": 4,
 "nbformat_minor": 2
}
